{
  "nbformat": 4,
  "nbformat_minor": 0,
  "metadata": {
    "colab": {
      "name": "assignment_3_part2.ipynb",
      "provenance": [],
      "authorship_tag": "ABX9TyPErtflIiZVlPHqiOd1mvs/",
      "include_colab_link": true
    },
    "kernelspec": {
      "name": "python3",
      "display_name": "Python 3"
    }
  },
  "cells": [
    {
      "cell_type": "markdown",
      "metadata": {
        "id": "view-in-github",
        "colab_type": "text"
      },
      "source": [
        "<a href=\"https://colab.research.google.com/github/jlegatheaux/RC2020-assignments/blob/master/assignment-3/assignment_3_part2.ipynb\" target=\"_parent\"><img src=\"https://colab.research.google.com/assets/colab-badge.svg\" alt=\"Open In Colab\"/></a>"
      ]
    },
    {
      "cell_type": "markdown",
      "metadata": {
        "id": "W4qS9lL1MeKh"
      },
      "source": [
        "# Assignment 3: A smart client to download content from one or multiple HTTP servers\n",
        "\n",
        "# PART II - Introduction to HTTP and Delivery\n",
        "\n",
        "## Summary\n",
        "\n",
        "- HTTP Protocol\n",
        "- Examples and utilities\n",
        "- HTTP gets using ranges\n",
        "- File transfer over HTTP with and without ranges\n",
        "- Delivery"
      ]
    },
    {
      "cell_type": "markdown",
      "metadata": {
        "id": "WmIexduiMhoj"
      },
      "source": [
        "### HTTP Protocol\n",
        "\n",
        "- HTTP is a client / server protocol supported by TCP channels\n",
        "- The server expects the client to open a TCP connection to its port (by default the port 80)\n",
        "- In version 1.0 of the protocol, each request / reply HTTP transaction uses a different TCP connection\n",
        "- In version 1.1 several HTTP transactions can share the same TCP connection\n",
        "- Versions 2 and 3 of HTTP support parallel transaction over the same TCP connection (version 2) or over UDP (version 3) but we will not discuss them here\n",
        "- Chapters 12 and 13 of the course support book have a discussion on HTTP and how it is used for content distribution nowadays\n"
      ]
    },
    {
      "cell_type": "markdown",
      "metadata": {
        "id": "mhCaoAVkMoHZ"
      },
      "source": [
        "<img src=\"https://raw.githubusercontent.com/jlegatheaux/RC2020-assignments/master/assignment-3/figures/Rede.png\">\n"
      ]
    },
    {
      "cell_type": "markdown",
      "metadata": {
        "id": "sxnt4vZgMtkv"
      },
      "source": [
        "### Example of HTTP Request/Reply Messages\n",
        "\n",
        "**HTTP Request Message**\n",
        "\n",
        "```\n",
        "GET /index.html HTTP/1.0 <CRLF>\n",
        "Host: di115.di.fct.unl.pt <CRLF>\n",
        "User-Agent: Mozzilla/40.01 <CRLF>\n",
        "<CRLF>\n",
        "```"
      ]
    },
    {
      "cell_type": "markdown",
      "metadata": {
        "id": "PzxW_8-xNWnZ"
      },
      "source": [
        "**HTTP Reply Message** (only included some lines)\n",
        "\n",
        "```\n",
        "HTTP/1.1 200 OK<CRLF>\n",
        "Date: Wed, 21 Oct 2020 21:50:14 GMT<CRLF>\n",
        "Server: Apache/2.4.29 (Ubuntu)<CRLF>\n",
        "Last-Modified: Sat, 04 Apr 2020 18:41:38 GMT<CRLF>\n",
        "ETag: \"12a0-5a27b62627f20\"<CRLF>\n",
        "Accept-Ranges: bytes<CRLF>\n",
        "Content-Length: 4768<CRLF>\n",
        "Vary: Accept-Encoding<CRLF>\n",
        "Connection: close<CRLF>\n",
        "Content-Type: text/html<CRLF>\n",
        "....\n",
        "<CRLF>\n",
        "....            //  Downloaded Data corresponding to the request\n",
        "```"
      ]
    },
    {
      "cell_type": "markdown",
      "metadata": {
        "id": "O0CXLRJmNdZr"
      },
      "source": [
        "### HTTP Request header-fields\n",
        "\n",
        "There are many different request header-fields that the client can send to the sever into the request message header. Below you will find some of a very long list that you can find in the bibliography:\n",
        "\n",
        "```\n",
        "User-Agent:\t\tex., User-AGent_ Mozilla/4.0.0\n",
        "Accept-Charset:\t\tex., Accept-Charset: utf-8\n",
        "Accept-Encoding:\tex., Accept-Encoding: gzip\n",
        "Accept-Language:\tex-. Accep-Language: en-UK\n",
        "If-Modified-Since:\tex., If-Modified-Since: Tue, 02 Oct 2020 14:35:41 GMT\n",
        "If-Match:\t\tex: If-Match: \"735667ds8siAB76E78FE.....9537C2D\"\n",
        "Range:\t\t\texx. Range: bytes=500-999\n",
        "```"
      ]
    },
    {
      "cell_type": "markdown",
      "metadata": {
        "id": "tIEmvvFCNqHL"
      },
      "source": [
        "### HTTP requests made \"by hand\"\n",
        "\n",
        "**By using the following command**, you can access an HTTP server to see its replies. Try the following one:\n",
        "\n",
        "```\n",
        "telnet asc.di.fct.unl.pt 80\n",
        "GET / HTTP/1.0 <return>\n",
        "<return>\n",
        ".... analyze the result.\n",
        "```\n",
        "\n",
        "**... or the following one:**\n",
        "\n",
        "```\n",
        "telnet www.google.com 80\n",
        "GET / HTTP/1.0 <return>\n",
        "<return>\n",
        ".... analyze the result.\n",
        "```\n",
        "\n",
        "**If your system doesn't have the telnet command, you can use instead the nc command**:\n",
        "\n",
        "```\n",
        "nc -c asc.di.fct.unl.pt 80\n",
        "GET / HTTP/1.0 <return>\n",
        "<return>\n",
        ".... analyze the result.\n",
        "```\n",
        "\n",
        "**Or the following one:**\n",
        "\n",
        "```\n",
        "nc -c www.google.com 80\n",
        "GET / HTTP/1.0 <return>\n",
        "<return>\n",
        ".... analyze the result.\n",
        "```"
      ]
    },
    {
      "cell_type": "markdown",
      "metadata": {
        "id": "QFnyUq-gN7u7"
      },
      "source": [
        "### HTTP Reply: header-fields\n",
        "\n",
        "The server sends information to the client by also using the header of the reply message, which is composed of different reply header-fields. These header-fields contains several informations, namely the reply object meta data, that are usefull to the client.\n",
        "\n",
        "```\n",
        "Server:\t\t\tex., Server: Apache\n",
        "Last-Modified:\t\tex., Last-Modified: Wed 21 Oct 2020 22:31:24 GMT\n",
        "Content-Type:\t\tex., Content-Type: text/html; charset=utf-8\n",
        "Content-Legnth:\t\tex., Content-Length: 438\n",
        "Content-Encoding:\tex., Content-Encoding: gzip\n",
        "ETag:\t\t\tex., ETag: \"3d2-52aca46b79fd9\"\n",
        "Accept-Ranges:\t\tex., Accept-Ranges: bytes\n",
        "```\n"
      ]
    },
    {
      "cell_type": "markdown",
      "metadata": {
        "id": "zxh_JVOUOAIG"
      },
      "source": [
        "### Java code utilities and examples\n",
        "\n",
        "The `java.net` package has many classes to speedup the development of programs using network protocols. In what concerns the protocol HTTP, there is one, among many, that can be used to parse and access URLs:\n",
        "\n",
        "**Class URL** \n",
        "The URL class allows parsing an url to get its different components. See file `URLparse.java` in the source code repository\n",
        "There are many other classes available in the same package to develop programs based on the HTTP protocol. However, due to pedagogical reasons, you can only use the class URL to parse an url. \n",
        "Any other requierements of your programs should be implemented by yourself or using the class `Http`, available in the source code repository, which provides some extra methods to facilitate the development of Java programs build directly on top of the HTTP Protocol.\n",
        "\n",
        "**Below you will find several Java source code examples:**\n"
      ]
    },
    {
      "cell_type": "markdown",
      "metadata": {
        "id": "QWcxfkFNOHS_"
      },
      "source": [
        "**Parsing an URL and opening a TCP connection to the server contained in the URL**\n",
        "\n",
        "```java\n",
        "String url = args[0]; // for example \"http://google.com\"\n",
        "URL u = new URL(url);\n",
        "// Assuming URL of the form http://server-name/path ....\n",
        "int port = u.getPort() == -1 ? 80 : u.getPort();\n",
        "String path = u.getPath() == \"\" ? \"/\" : u.getPath();\n",
        "Socket sock = new Socket( u.getHost(), port );\n",
        "OutputStream out = sock.getOutputStream();\n",
        "```\n"
      ]
    },
    {
      "cell_type": "markdown",
      "metadata": {
        "id": "5tBEROzVOJ8y"
      },
      "source": [
        "**Composing and sending a request contained in `URL u` to a server**\n",
        "\n",
        "```java\n",
        "String request = String.format(\n",
        "\"GET %s HTTP/1.0\\r\\n\"+\n",
        "\"Host: %s\\r\\n\"+\n",
        "\"User-Agent: X-RC2020\\r\\n\\r\\n\", path, u.getHost());\n",
        "out.write(request.getBytes());\n",
        "```\n"
      ]
    },
    {
      "cell_type": "markdown",
      "metadata": {
        "id": "zIFMJuB4OPDt"
      },
      "source": [
        "**Parsing a request message header in a server**\n",
        "\n",
        "```java\n",
        "// reading and parsing the request\n",
        "String line = Http.readLine(in);\n",
        "String[] request = Http.parseHttpRequest(line);\n",
        "\n",
        "\n",
        "// reading the rest of the request message header\n",
        "while ( (line = Http.readLine(in).length()) > 0) {\n",
        "  //System.out.println(line);\n",
        "}\n",
        "\n",
        "if( request[0].equalsIgnoreCase(\"GET\") && request[1].length() > 0) {\n",
        "     sendFile(request[1], out);\n",
        "} else {\n",
        "     // request instruction not supported...\n",
        "     sendsNotSupportedPage( out);\n",
        "```"
      ]
    },
    {
      "cell_type": "markdown",
      "metadata": {
        "id": "fkDkrjxBPEEU"
      },
      "source": [
        "**Example: sending a reply error message to the client**\n",
        "```java\n",
        "/**\n",
        "* Sends an error message \"Not Implemented\"\n",
        "*/\n",
        "private static void sendsNotSupportedPage(OutputStream out) throws IOException {\n",
        "   String page = \"<HTML><BODY>Demo server: request Not Implemented</BODY></HTML>\";\n",
        "   \n",
        "   int length = page.length();\n",
        "   String header = \"HTTP/1.0 501 Not Implemented\\r\\n\";\n",
        "   header += \"Date: \" + new Date().toString() + \"\\r\\n\";\n",
        "   header += \"Content-type: text/html\\r\\n\";\n",
        "   header += \"Server: \"+\"X-Server-RC2020\"+\"\\r\\n\";\n",
        "   header += \"Content-Length: \"+String.valueOf(length)+\"\\r\\n\\r\\n\";\n",
        "   header += page;\n",
        "   out.write(header.getBytes());\n",
        "}\n",
        "```\n"
      ]
    },
    {
      "cell_type": "markdown",
      "metadata": {
        "id": "2_h3YG1wPgi6"
      },
      "source": [
        "**Example: Sending a file in an HTTP reply message - the reply header and payload**\n",
        "\n",
        "```java\n",
        "private static void sendFile(String name, OutputStream out) throws IOException {\n",
        "\n",
        "  File f = new File(name);\n",
        "  long size = f.length();\n",
        "  FileInputStream file = new FileInputStream(f);\n",
        "\n",
        "  StringBuilder header = new StringBuilder(\"HTTP/1.0 200 OK\\r\\n\");\n",
        "  header.append(\"Server: \"+\"X-Server-RC2020\"+\"\\r\\n\");\n",
        "  header.append(\"Content-Length: \"+ size +\"\\r\\n\\r\\n\");\n",
        "\n",
        "  out.write(header.toString().getBytes());\n",
        "  \n",
        "  // send payload\n",
        "\n",
        "  int n;\n",
        "  byte[] buffer = new byte[1024];\n",
        "  while( (n = file.read(buffer)) > 0 )\n",
        "    out.write( buffer, 0, n);\n",
        "}\n",
        "```"
      ]
    },
    {
      "cell_type": "markdown",
      "metadata": {
        "id": "6Xv0UHdNQXK9"
      },
      "source": [
        "### Demos: HTTP client and server\n",
        "\n",
        "In the source code repository you will find a very simple HTTP client [**SimpleHttpClient.java**](./exemplo3/SimpleHttpClient.java) that is able to request an object denoted by the url given as argument. The reply of the server is shown to the user (but it is not parsed, nor interpreted).\n",
        "\n",
        "Study its code and try to access some other urls like for example:\n",
        "\n",
        "- ``http://google.com``\n",
        "- ``http://www.google.com``\n",
        "- ``http://asc.di.fct.unl.pt``\n",
        "- ``http://asc.di.fct.unl.pt/rc``\n",
        "\n",
        "Explain the output and understand how it works.\n",
        "\n",
        "In the [**source code repository**](./exemplo3) you will also find an HTTP server named  HttpTrickyServer (only the classess `HttpTrickyServer.class` and `Http.class` and the jar `HttpTrickyServer.jar` are provided) that is able to serve the requested files from its local file system. You can run the server using the command `java -cp . HttpTrickyServer` (assuming `HttpTrickyServer.class` and `Http.class` files are in the same directory) or the command `java -jar HttpTrickyServer.jar 8080` for example.\n",
        "\n",
        "Later on, you will understand better why the server has the word **Tricky** in its name. By now, you can use the browser of your choice and try to access URL `http://localhost:8080`. The browser will show the answer received from the server.\n",
        "\n",
        "You can also try to access the URL: `http://localhost:8080/some_filename.java`. For example, if the server is executing in your localhost, and if in its current directory you find files called [**index.html**](./exemplo3/index.html),  [**earth.jpg**](./exemplo3/earth.jpg) and [**HttpLazyServer.java**](./exemplo3/HttpLazyServer.java), using the **HttpTrickyServer** and the URLs `http://localhost:8080/index.html`,  `http://localhost:8080/earth.jpg` or `http://localhost:8080/HttpLazyServer.java`, you can obtain the contents of these files. It will be similar for any other object you want to download from the server.\n",
        "\n",
        "If you have python installed in your system, you can understand better how the Tricky and Lazy servers behave, you can try the same browser access to [**earth.jpg**](./exemplo3/earth.jpg) using a normal HTTP server that you can run using the command  `python -m SimpleHTTPServer 8080`.\n",
        "\n"
      ]
    },
    {
      "cell_type": "markdown",
      "metadata": {
        "id": "mLyIR6UMQb4k"
      },
      "source": [
        "## Hands-On: Programming Execise\n",
        "The provided **SimpleHttpClient**  is able to use the HTTP request / reply protocol to obtain a file and show its content. \n",
        "Departing from this class, find a way that may be used to download files from an HTTP server to be stored in a local file (in the client side). \n",
        "Call your class **GetFile.java** for example. You can follow a code structure as initially proposed in **GetFile.java**.\n",
        "\n",
        "In the source code repository there is another class [**GetURL.java**](./exemplo3/GetURL.java) which uses the class URL to download an object from an HTTP server. \n",
        "It is shown just for study purposes and you can use it to download contents from web servers or also from the **HttpTrickyServer**. However, due to pedagogical reasons, you also can't use it to complete any of your exercises.\n",
        "\n"
      ]
    },
    {
      "cell_type": "markdown",
      "metadata": {
        "id": "xpSMTnGaQiD1"
      },
      "source": [
        "## HTTP using Range Requests\n",
        "\n",
        "### Range Requests\n",
        "\n",
        "During the (already very long) life of the HTTP protocol, many extensions have been introduced. Most of those extensions introduced new request and reply header-fields.\n",
        "To facilitate the access to very big or huge objects, HTTP supports partial requests. This feature is inspired from reading direct access files in slices.\n",
        "To make a partial request, one needs at least two resources:\n",
        "\n",
        "- An HTTP server that understands range requests and replies to them\n",
        "- A client using the range request header-field. Examples:\n",
        "- Range: bytes=100-199   // requesting the 100 bytes starting with byte 100\n",
        "- Range: bytes=100-      // requesting from byte 100 to the end of the object\n"
      ]
    },
    {
      "cell_type": "markdown",
      "metadata": {
        "id": "3NNAIYc-QlyQ"
      },
      "source": [
        "### HTTP request made \"by hand\"\n",
        "\n",
        "**By using the following commands**, you can access an HTTP server to see its replies. Try the following one:\n",
        "\n",
        "```\n",
        "telnet asc.di.fct.unl.pt 80\n",
        "GET / HTTP/1.0 <return>\n",
        "Range: bytes=10-20 <return>\n",
        "<return>\n",
        ".... analyze the result.\n",
        "```\n"
      ]
    },
    {
      "cell_type": "markdown",
      "metadata": {
        "id": "tqDnMBhLQmn5"
      },
      "source": [
        "**Source code example:**\n",
        "\n",
        "```java\n",
        "OutputStream out = sock.getOutputStream();\n",
        "String request = String.format(\"GET %s HTTP/1.0\\r\\n\"+\n",
        "\"Host: %s\\r\\n\"+\n",
        "\"Range: bytes=100-199\\r\\n\"+\n",
        "\"User-Agent: X-RC2018\\r\\n\\r\\n\", path, u.getHost());\n",
        "out.write(request.getBytes());\n",
        "```\n",
        "\n",
        "You can learn about this feature of the HTTP protocol by starting here or looking at RFC 7233, as well as, in the Course Book.\n",
        "\n",
        "Range requests and replies are specially useful to deal with multimedia information.\n"
      ]
    },
    {
      "cell_type": "markdown",
      "metadata": {
        "id": "nvAFrClfQvWt"
      },
      "source": [
        "In the source code repository you will also find a lazy HTTP server [**HttpLazyServer.java**](./exemplo3/HttpLazyServer.java) that is able to serve the requested files and partially supports ranges. In fact, the full support of RFC 7233 ranges is quite complex and extensive. The provided server only supports ranges of the forms shown above. This server is lazy since it only sends at most MAX_BYTES bytes in each reply. You can find this constant in its source file. Therefore, if you want to know it, you should use the RTFC method (Read The F. Code), which is the only accessible method when no manual is available.\n",
        "To test the actions of the lazy server, launch it in a directory where you also put the file Earth.jpg (which size is around 13 Mbytes). You can access it by using the url: \n",
        "`http://localhost:8080/Earth.jpg` using the browser of your choice.\n"
      ]
    },
    {
      "cell_type": "markdown",
      "metadata": {
        "id": "wR8yhU-BQv48"
      },
      "source": [
        "# Parte III - Assignment 3 Delivery\n",
        "\n",
        "## Delivery: [A ``smart`` client to get a file from a HTTP Server or from a cluster of HTTP Servers, using successive range downloads](./DELIVERY.md)\n"
      ]
    }
  ]
}