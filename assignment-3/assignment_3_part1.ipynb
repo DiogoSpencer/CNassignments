{
  "nbformat": 4,
  "nbformat_minor": 0,
  "metadata": {
    "colab": {
      "name": "Copy of assignment-3-part1.ipynb",
      "provenance": [],
      "collapsed_sections": [],
      "authorship_tag": "ABX9TyOXlcglCRDQaqz31T1wwQUL",
      "include_colab_link": true
    },
    "kernelspec": {
      "name": "python3",
      "display_name": "Python 3"
    }
  },
  "cells": [
    {
      "cell_type": "markdown",
      "metadata": {
        "id": "view-in-github",
        "colab_type": "text"
      },
      "source": [
        "<a href=\"https://colab.research.google.com/github/jlegatheaux/RC2020-assignments/blob/master/assignment-3/assignment_3_part1.ipynb\" target=\"_parent\"><img src=\"https://colab.research.google.com/assets/colab-badge.svg\" alt=\"Open In Colab\"/></a>"
      ]
    },
    {
      "cell_type": "markdown",
      "metadata": {
        "id": "Ue2yy6eL8QeI"
      },
      "source": [
        "# Assignment 3: A smart client to download content from one or multiple HTTP servers\n",
        "\n",
        "# PART I - Introduction to TCP\n",
        "\n",
        "## Summary\n",
        "- Client/Server Model with TCP\n",
        "- TCP Sockets\n",
        "- Java Example\n",
        "- Exercise: File Transfer over TCP\n"
      ]
    },
    {
      "cell_type": "markdown",
      "metadata": {
        "id": "ZZt5FMlT8Sjb"
      },
      "source": [
        "### Client/Server Model\n",
        "A Client/Server Application has two base autonomous components that can run as processes in the same Host or distributed in two different internetworked Hosts:\n",
        "- Server: the first to run - usually always running and ready to process requests from the client\n",
        "- Client: usually started by the user, to request a service from the server\n"
      ]
    },
    {
      "cell_type": "markdown",
      "metadata": {
        "id": "gqgJZRkD8WnM"
      },
      "source": [
        "### Client/Server Model with TCP Channels\n",
        "\n",
        "The following figure represents the typical interaction between a client and server.\n",
        "\n",
        "<img src=\"https://github.com/jlegatheaux/RC2020-assignments/blob/master/assignment-3/figures/modelo-tcp.png?raw=1\" width=\"90%\">\n"
      ]
    },
    {
      "cell_type": "markdown",
      "metadata": {
        "id": "XsihRVJl8dUL"
      },
      "source": [
        "### TCP Logical Channels or Connections (or Streams)\n",
        "- A TCP connection is a logical two-way reliable channel among two processess\n",
        "- The connection is open by the client, directed towards the server IP address and port,\n",
        "- The server IP address and *port* identifies the other extreme of the connection\n",
        "- It supports two independent, reliable and ordered flow of bytes — one in each direction\n",
        "- It can be closed at any moment by any of the two communicating processess\n",
        "- Before any communication can take place, both sides must agree that they want to establish the communicating TCP channel among them\n"
      ]
    },
    {
      "cell_type": "markdown",
      "metadata": {
        "id": "KIfTHwNB8lxb"
      },
      "source": [
        "### TCP Sockets\n",
        "- A TCP connection is established among two \"TCP Sockets\", one in each extreme of the channel\n",
        "- A client TCP Socket \"opens\" a connection to the server side TCP socket - the first opens the connection, the second one accepts it\n",
        "- A server creates a TCP socket to accept incoming connections; this socket has a server port and the server IP address\n",
        "- A client opens or creates the connection by requesting the creation of a local TCP socket connected to the server TCP Socket\n"
      ]
    },
    {
      "cell_type": "markdown",
      "metadata": {
        "id": "J8Dp77l_8qoa"
      },
      "source": [
        "### Example (ECHO Server and Client)\n",
        "In this simple example the client creates a TCP socket by connectiong it to the server TCP socket; the server socket is identified by the server address and the socket port. Then, the client reads lines from its console and sends them to the server. The server reads the bytes sent by the client and echoes them back to the client. \n"
      ]
    },
    {
      "cell_type": "markdown",
      "metadata": {
        "id": "KEFbrLxI8t7F"
      },
      "source": [
        "### Java Server Code\n",
        "The code of the server [**EchoServer.java**](./exemplo1/EchoServer.java) is very simple. It just creates a socket, an object of class `ServerSocket` to accept incoming connections in the previously agreed port. Then it accepts client request to establish a connection.\n"
      ]
    },
    {
      "cell_type": "markdown",
      "metadata": {
        "id": "AEXbiKk28vK5"
      },
      "source": [
        "```java\n",
        "import java.io.* ;\n",
        "import java.net.* ;\n",
        "\n",
        "public class EchoServer {\n",
        "\n",
        "   public static final int DEFAULT_PORT = 8000 ;\n",
        "\t\n",
        "   public static void main(String args[] ) throws Exception {\n",
        "     \n",
        "     int port=DEFAULT_PORT;\n",
        "     if (args.length == 1) {\n",
        "        port=Integer.parseInt(args[0]);\n",
        "     }\n",
        "      \n",
        "     System.out.println(\"Server waiting in port \" + port);\n",
        "     // creates a server socket to wait for connections\n",
        "     \n",
        "     try (ServerSocket serverSocket = new ServerSocket( port )) {\n",
        "       for(;;) { \n",
        "         \n",
        "         Socket clientSocket = serverSocket.accept() ;\n",
        "\t\t     \n",
        "         System.out.println(\"Got a client connection from \" \n",
        "         + clientSocket.getInetAddress().getHostName());\n",
        "\n",
        "         // handling the client connection\n",
        "         new ConnectionHandler().handle( clientSocket );\n",
        "       }\n",
        "     } catch (IOException x) {\n",
        "\t      x.printStackTrace();\n",
        "     }\n",
        "   }\n",
        "}\n",
        "```"
      ]
    },
    {
      "cell_type": "markdown",
      "metadata": {
        "id": "uKFIeWLh83xi"
      },
      "source": [
        "When the connection is established, the handler [**ConnectionHandler.java**](./exemplo1/ConnectionHandler.java) simply continuously reads bytes and writes them back to the other side while the connection is not closed.\n",
        "```java\n",
        "import java.io.*;\n",
        "import java.net.*;\n",
        "\n",
        "public class ConnectionHandler {\n",
        "\t\n",
        "\tprivate static final int TMP_BUF_SIZE = 1024;\n",
        "\t\n",
        "\tpublic void handle(Socket cs) throws IOException {\n",
        "\t\t\n",
        "\t\tInputStream is = cs.getInputStream();\n",
        "\t\tOutputStream os = cs.getOutputStream();\n",
        "\t\t\n",
        "\t\tint n ;\n",
        "\t\tbyte[] buf = new byte[TMP_BUF_SIZE] ;\n",
        "\t\t\n",
        "\t\twhile( (n = is.read(buf)) > 0 )\n",
        "\t\t\tos.write( buf, 0, n );\n",
        "\t}\n",
        "}\n",
        "```"
      ]
    },
    {
      "cell_type": "markdown",
      "metadata": {
        "id": "Xemwmkre89CI"
      },
      "source": [
        "### Java Client\n",
        "\n",
        "The client [**EchoClient.java**](./exemplo1/EchoClient.java) starts by processing the parameters and opening a connection to the server. This is implemented by creating an object of class `Socket`.\n",
        "When the connection is open, it starts using it as a read / write stream/pipe.\n",
        "As you can see (EchoClient) once the connection is established, the client prepares a scanner to read bytes from the console (System.in).\n",
        "Enters a loop where it reads a line, sends it to the server, gets the echo and prints it to the console, until it receives the string \"!end\". \n"
      ]
    },
    {
      "cell_type": "markdown",
      "metadata": {
        "id": "S4zS-jrB8_MR"
      },
      "source": [
        "```java\n",
        "import java.io.*;\n",
        "import java.net.*;\n",
        "import java.util.*;\n",
        "\n",
        "public class EchoClient {\n",
        "  \n",
        "  public static void main(String[] args ) throws Exception {\n",
        "    \n",
        "    if( args.length != 2 ) {\n",
        "      System.out.println(\"usage: java EchoClient <serverhost> <serverport>\");\n",
        "      System.exit(0);\n",
        "    }\n",
        "  \n",
        "    String server = args[0] ;\n",
        "    int port = Integer.parseInt(args[1]) ;\n",
        "\t\t\n",
        "    Socket socket = new Socket( server, port ) ;\n",
        "    OutputStream os = socket.getOutputStream();\n",
        "    InputStream is = socket.getInputStream() ;\n",
        "\n",
        "    Scanner in = new Scanner( System.in ) ;\n",
        "    \n",
        "    byte[] buf;\n",
        "    int n;\n",
        "    String echoRequest;\n",
        "    \n",
        "    do {\n",
        "\t    echoRequest = in.nextLine();\n",
        "\t    echoRequest = echoRequest + \"\\n\";\n",
        "      \n",
        "      System.out.println(\"I will send: \" +echoRequest);\n",
        "      \n",
        "      os.write( echoRequest.getBytes() );\n",
        "      \n",
        "      String echoReply = new Scanner(is).nextLine();\n",
        "      \n",
        "      System.out.println(\"Reply form Server: \" +echoReply);\n",
        "      \n",
        "    } while( !echoRequest.equals(\"!quit\\n\") ) ;\n",
        "    \n",
        "    socket.close() ;\n",
        "  }\n",
        "}\n",
        "```"
      ]
    },
    {
      "cell_type": "markdown",
      "metadata": {
        "id": "hw8RP7VY9G6F"
      },
      "source": [
        "### Some Recipes\n",
        "\n",
        "### Class ServerSocket\n",
        "```java\n",
        "try( ServerSocket ss = new ServerSocket( PORT ) ) {\n",
        "    ...\n",
        "        cs = ss.accept();\n",
        "    ...\n",
        "}\n",
        "```\n",
        "\n",
        "### Class Socket\n",
        "```java\n",
        "try( Socket ss = new Socket( server, PORT ) ) {\n",
        "    ...\n",
        "    InputStream is = ss.getInputStream();\n",
        "    OutpoutStream os = ss.getOutputStream();\n",
        "    ...\n",
        "}\n",
        "```\n",
        "\n",
        "### Sending and receiving (multiple) bytes\n",
        "```java\n",
        "int n;\n",
        "byte buf = new byte[TMP_BUF_SIZE];\n",
        "while( (n = is.read( buf )) > 0 )\n",
        "    os.write( buf, 0, n)\n",
        "```    \n",
        "    \n",
        "### Reading a single byte at each time (may be slow)\n",
        "```java\n",
        "InputStream is = cs.getInputStream();\n",
        "int b = is.read();\n",
        "```\n",
        "\n",
        "### WARNING: Anti-Pattern\n",
        "```java\n",
        "InputStream.available() works with FileInputStream, but does not work with streams that are backed by Sockets.\n",
        "\n",
        "Socket cs = new Socket( server, port );\n",
        "InputStream is = cs.getInputStream();\n",
        "while( is.available() ) {  \n",
        "};\n",
        "```"
      ]
    },
    {
      "cell_type": "markdown",
      "metadata": {
        "id": "JXk38M3E9L9j"
      },
      "source": [
        "### About Threads \n",
        "\n",
        "Threads in Java can be programmed in multiple ways: Lambda Expressions or via the use of Helper Classes.\n",
        "\n",
        "### Threads + Lambda Expression\n",
        "\n",
        "```java\n",
        "new Thread( () -> {\n",
        "    \n",
        "    // place here code to execute in new thread...\n",
        "    \n",
        "}).start();\n",
        "```\n",
        "\n",
        "\n",
        "### Threads + Helper class\n",
        "\n",
        "\n",
        "#### Helper class implements interface Runnable\n",
        "\n",
        "<br>\n",
        "Usage in main thread:\n",
        "\n",
        "```java\n",
        "new Thread( new HelperClass( args )).start();\n",
        "````\n",
        "\n",
        "Child thread executes in run(), receives args in constructor...\n",
        "\n",
        "```java\n",
        "  class HelperClass implements Runnable {\n",
        "    HelperClass( ... ) {\n",
        "        // Constructor receives any args the helper class needs to run...\n",
        "    }\n",
        "    public void run() {\n",
        "       // place here code to execute in new thread...\n",
        "    }\n",
        "}\n",
        "```\n",
        "#### Helper class extends Thread\n",
        "\n",
        "Cannot be used if helper class already extends another class...\n",
        "\n",
        "<br>\n",
        "Usage in main thread:\n",
        "\n",
        "```java\n",
        "new HelperClass( args ).start();\n",
        "```\n",
        "\n",
        "\n",
        "Child thread executes in run(), receives args in constructor...\n",
        "\n",
        "```java\n",
        "class HelperClass extends Thread {\n",
        "    HelperClass( ... ) {\n",
        "        // Constructor receives any args the helper class needs to run...\n",
        "    }\n",
        "    public void run() {\n",
        "       // place here code to execute in new thread...\n",
        "    }\n",
        "}\n",
        "```\n"
      ]
    },
    {
      "cell_type": "markdown",
      "metadata": {
        "id": "xgQHBMCC9RGw"
      },
      "source": [
        "### The Multithreaded EchoServer \n",
        "This server [**ConcurrentEchoServer.java**](./exemplo1/ConcurrentEchoSerer.java) uses threads to implement concurrency. As you can check the server can handle different clients in parallel."
      ]
    },
    {
      "cell_type": "markdown",
      "metadata": {
        "id": "BAyWxRAW9THe"
      },
      "source": [
        "```java\n",
        "import java.io.*;\n",
        "import java.net.*;\n",
        "\n",
        "public class ConcurrentEchoServer {\n",
        "\t\n",
        "\tpublic static final int DEFAULT_PORT = 8000 ;\n",
        "\t\n",
        "\tpublic static void main( String[] args ) throws Exception {\n",
        "\n",
        "\t\tint port=DEFAULT_PORT;\n",
        "\t\n",
        "\t\tif (args.length == 1) {\n",
        "\t\t\tport=Integer.parseInt(args[0]);\n",
        "\t\t}\n",
        "\t\t\n",
        "\t\tSystem.out.println(\"Server waiting in port \" + port);\n",
        "\n",
        "\t\ttry (ServerSocket serverSocket = new ServerSocket( port )) {\n",
        "\n",
        "\t    Socket clientSocket;\n",
        "\t    ServiceHandler servthread;\n",
        "\n",
        "\t    while(true) {\n",
        "\t\t\tclientSocket = serverSocket.accept();\n",
        "\t\t\tservthread = new ServiceHandler(clientSocket);\n",
        "\t\t\tservthread.start();\n",
        "\t    }\n",
        "\t\t}\n",
        "\t\tcatch (IOException x) {\n",
        "\t\t\tx.printStackTrace();\n",
        "\t\t}\n",
        "  }\n",
        "}\n",
        "```"
      ]
    },
    {
      "cell_type": "markdown",
      "metadata": {
        "id": "ATyTo6GR9VrD"
      },
      "source": [
        "As you can see in the Concurret EchoServer, the connections from clients are served through the thread **servthread** as defined in [**ServiceHandler.java**](./exemplo1/ServiceHandler.java).\n",
        "The ServiceHandler class, as an Helper class then uses again the initial [**ConnectionHandler**](./exemplo1/ConnectionHandler.java) used by the non concurrent EchoServer,\n",
        "but now the client connections are handled in parallel.\n"
      ]
    },
    {
      "cell_type": "markdown",
      "metadata": {
        "id": "lEbfkXf59ZDx"
      },
      "source": [
        "```java\n",
        "import java.io.*;\n",
        "import java.net.*;\n",
        "\n",
        "class ServiceHandler extends Thread {\n",
        "    Socket connection;\n",
        "\t\n",
        "\t\tpublic ServiceHandler(Socket c) {\n",
        "\t\t\tsuper(\"EchoServer service thread\");\n",
        "\t\t\tconnection = c;\n",
        "\t\t}\n",
        "    \n",
        "\t\tpublic void run()  {\n",
        "\t\t\t// handling the client connection                          \n",
        "\t\t\ttry {\n",
        "\t\t\t\tnew ConnectionHandler().handle(connection);\n",
        "\t\t\t\t}\n",
        "\t\t\tcatch (IOException x){\n",
        "\t\t\t\tx.printStackTrace();\n",
        "\t\t\t}\n",
        "\t\t}\n",
        "}\n",
        "```"
      ]
    },
    {
      "cell_type": "markdown",
      "metadata": {
        "id": "bhHaeZgO9bYg"
      },
      "source": [
        "# A Client and Server for file transfers using TCP\n",
        "\n",
        "## Summary\n",
        "\n",
        "- The FTTCPServer (File Transfer TCP Server)\n",
        "- Exercise: program TheTCPClient (File Transfer TCP Client)\n",
        "\n",
        "After the last PART I you must be able to understand the code for the **FTTCPServer**.\n",
        "\n",
        "The server [**FTTPTCPServer.java**](./exemplo2/server/FTTCPServer.java) \n",
        "accepts TCP connections from clients that will send files. The server saves each file sent in a file named \"a.out\".\n",
        "The server computes statistics for end-to-end transfer time, number of transferred bytes and transfer rate.\n",
        "Notice that the FTTCPServer is not concurrent. It only serves one client for one transfer at a time. If you want, you\n",
        "can modify the server to work concurrently (following the rationale of the ConsurrentEchoServer in Part I, to serve\n",
        "multiple clients in parallel."
      ]
    },
    {
      "cell_type": "markdown",
      "metadata": {
        "id": "03SlXSFe9fUo"
      },
      "source": [
        "**Exercise:**\n",
        "You must program a class: [**FTTPTCPClient.java**](./exemplo2/client/FTTCPClient.java) that can send files to the FTTPTCPServer. \n",
        "\n",
        "You can use verify the operation trying to transfer files from the client to the server. For example, try to download\n",
        "the MPEG4 File [**OSIRIS-REx.mp4**](./exemplo2/OSIRIS-REx.mp4) or the JPEG file [**earth.jpg**](./exemplo2.earth.jpg) to test the **FTTCPclient** and **FTTCPServer**.\n",
        "\n",
        "You can compare the obtained resulsts in your Assignment2 (with your GoBackN and Selective Repeat protocols), \n",
        "with the performance you observe here for transfer rates using TCP. \n"
      ]
    }
  ]
}