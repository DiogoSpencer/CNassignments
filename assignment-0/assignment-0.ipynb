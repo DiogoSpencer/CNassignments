{
  "nbformat": 4,
  "nbformat_minor": 0,
  "metadata": {
    "colab": {
      "name": "rc0.ipynb",
      "provenance": [],
      "include_colab_link": true
    },
    "kernelspec": {
      "name": "python3",
      "display_name": "Python 3"
    }
  },
  "cells": [
    {
      "cell_type": "markdown",
      "metadata": {
        "id": "view-in-github",
        "colab_type": "text"
      },
      "source": [
        "<a href=\"https://colab.research.google.com/github/jlegatheaux/RC2020-assignments/blob/master/assignment-0/assignment-0.ipynb\" target=\"_parent\"><img src=\"https://colab.research.google.com/assets/colab-badge.svg\" alt=\"Open In Colab\"/></a>"
      ]
    },
    {
      "cell_type": "markdown",
      "metadata": {
        "id": "QL1hu3qxH--0",
        "colab_type": "text"
      },
      "source": [
        "# CNSS (Computer Networks Simple Simulator)\n",
        "\n",
        "RC2020 Labs will use CNSS for part of the semester (probably in 4 out of the 6 programming assignments). CNSS makes it possible\n",
        "to code and simulate simple networking protocols. The simulation results\n",
        "are deterministic and repeatable, making it easier to reproduce and interpret them.\n",
        "\n",
        "In this assignment we will first cover the basics of CNSS. Firstly, how and where to fetch the source code, how to compile the code and execute the simulator. Then we will learn about the basic components: **nodes** and **links** that will be used to simulate simple computer networks and networking protocols.\n",
        "\n",
        "---\n",
        "\n",
        "## Fetching CNSS\n",
        "\n",
        "CNSS is written in Java 8. The source code is publicly available and hosted at [GitHub](https://github.com/jlegatheaux/cnss)\n",
        "\n",
        "For those still unfamiliar with GitHub repositories, there are several ways\n",
        "to access the source code.\n",
        "\n",
        "You can [download a zip archive](https://github.com/jlegatheaux/cnss/archive/master.zip) of the entire repository;\n",
        "\n",
        "You can also use [git](https://git-scm.com/) to clone the contents of the repository to a local directory, like so:"
      ]
    },
    {
      "cell_type": "code",
      "metadata": {
        "id": "X9SX-mlqIEge",
        "colab_type": "code",
        "colab": {}
      },
      "source": [
        "%%bash\n",
        "\n",
        "git clone https://github.com/jlegatheaux/cnss"
      ],
      "execution_count": null,
      "outputs": []
    },
    {
      "cell_type": "markdown",
      "metadata": {
        "id": "2Bc8LYmoIIA5",
        "colab_type": "text"
      },
      "source": [
        "This will create a directory ***cnss*** in the current directory with a local repository with the latest version.\n",
        "\n",
        "You can refresh and update the local repository, by executing the following command in the repository folder:\n"
      ]
    },
    {
      "cell_type": "code",
      "metadata": {
        "id": "db9Iw7zVIJXi",
        "colab_type": "code",
        "colab": {}
      },
      "source": [
        "%%bash\n",
        "\n",
        "git -C cnss pull"
      ],
      "execution_count": null,
      "outputs": []
    },
    {
      "cell_type": "markdown",
      "metadata": {
        "id": "ybxNE9dgIRUx",
        "colab_type": "text"
      },
      "source": [
        "### Eclipse Users\n",
        "\n",
        "CNSS can also be imported directly to Eclipse.\n",
        "\n",
        "For version 2020-06, the procedure is as follows:\n",
        "  * Copy the CNSS repository uri (https://github.com/jlegatheaux/cnss.git) into the clipboard;\n",
        "  * Navigate: ```File > Import > Git```, choose ```Projects from Git```, then ```Next```\n",
        "  * Choose ```Clone URI```, then ```Next``` twice.\n",
        "  * If asked, only select the ```master``` branch and press ```Next``` until finished."
      ]
    },
    {
      "cell_type": "markdown",
      "metadata": {
        "id": "evW22iInIywA",
        "colab_type": "text"
      },
      "source": [
        "## Compiling CNSS manually\n",
        "\n",
        "CNSS has no external dependencies. \n",
        "\n",
        "At the root of the repository, the source code can be compiled in the command line, like so:"
      ]
    },
    {
      "cell_type": "code",
      "metadata": {
        "id": "bAxXMn-AI2pj",
        "colab_type": "code",
        "colab": {}
      },
      "source": [
        "%%bash\n",
        "\n",
        "mkdir cnss-classes\n",
        "javac -d cnss-classes cnss/src/*/*/*.java"
      ],
      "execution_count": null,
      "outputs": []
    },
    {
      "cell_type": "markdown",
      "metadata": {
        "id": "ppvjBh6AI6Kr",
        "colab_type": "text"
      },
      "source": [
        "Note: the switch ```-d cnss-classes``` will place the resulting classes in the ```cnss-classes``` directory."
      ]
    },
    {
      "cell_type": "markdown",
      "metadata": {
        "id": "s3OGnxhIJks0",
        "colab_type": "text"
      },
      "source": [
        "## Running CNSS\n",
        "\n",
        "To run the simulator, a **plain text** configuration file is needed.\n",
        "\n",
        "We can use an empty file as its argument just to try out the simulator."
      ]
    },
    {
      "cell_type": "code",
      "metadata": {
        "id": "JTUiaFmvJsf-",
        "colab_type": "code",
        "colab": {}
      },
      "source": [
        "%%bash\n",
        "echo > empty.config.txt\n",
        "\n",
        "java -cp .:cnss-classes cnss.simulator.Simulator empty.config.txt"
      ],
      "execution_count": null,
      "outputs": []
    },
    {
      "cell_type": "markdown",
      "metadata": {
        "id": "dEOHln24J2LW",
        "colab_type": "text"
      },
      "source": [
        "### Eclipse Users\n",
        "\n",
        "Execute the [Simulator](https://github.com/jlegatheaux/cnss/blob/master/src/cnss/simulator/Simulator.java) class, using the desired configuration file as its sole argument.\n",
        "\n",
        "See [here](https://www.codejava.net/ides/eclipse/how-to-pass-arguments-when-running-a-java-program-in-eclipse) how to pass arguments to a Java program in Eclipse."
      ]
    },
    {
      "cell_type": "markdown",
      "metadata": {
        "id": "YXxtMfYgZtF2",
        "colab_type": "text"
      },
      "source": [
        "### Accessing the Google Colab Terminal \n",
        "\n",
        "Google Colab notebooks execute in a virtualized Linux environment. \n",
        "\n",
        "Executing the Python code below will provide an hyperlink to open a text console/terminal in another browser tab. This terminal provides limited shell access to the virtual machine where this notebook is running. It \n",
        "is a useful way to check the filesystem or run Unix commands interactively..."
      ]
    },
    {
      "cell_type": "code",
      "metadata": {
        "id": "OIMU6F1vaD37",
        "colab_type": "code",
        "colab": {}
      },
      "source": [
        "!pip install kora\n",
        "from kora import console\n",
        "console.start()"
      ],
      "execution_count": null,
      "outputs": []
    },
    {
      "cell_type": "markdown",
      "metadata": {
        "id": "Meljt-y_KVpB",
        "colab_type": "text"
      },
      "source": [
        "---\n",
        "# CNSS Overview\n",
        "\n",
        "A simulator is piece of software that executes **actions** in response to **events**. To make the execution of a simulation **deterministic** and **repeatable**, the **ordering of events** is logical and **fixed**, and does not depend on the actual time taken to execute the actions, which are treated as **instantaneous**.\n",
        "\n",
        "Given the computer networks context, CNSS simulates a network made of links that interconnect nodes. Nodes, using the network, can exchange messages (packets). In this context, an event in CNSS can be, for example, the *delivery* of a message at some node or the indication that a *timeout* has expired in another one, or yet the firing of a clock tick, ...\n",
        "\n",
        "A more compreenhesive description of CNSS can be found [here](https://github.com/jlegatheaux/cnss).\n",
        "\n",
        "## Nodes\n",
        "\n",
        "A simulation will comprise of a number of nodes. Nodes can be used to simulate simple end-systems (application hosts) or other lower-level networking components, such as *packet switches*.\n",
        "\n",
        "### Programming Application Nodes\n",
        "\n",
        "The behavior of application nodes (or the application part of a node) is coded in a Java class that **implements** the [ApplicationAlgorithm](https://github.com/jlegatheaux/cnss/blob/master/src/cnss/simulator/ApplicationAlgorithm.java) interface.\n",
        "\n",
        "The CNSS codebase also provides a convenience class  [AbstractAplicationAlgorithm](https://github.com/jlegatheaux/cnss/blob/master/src/cnss/lib/AbstractApplicationAlgorithm.java) that can be extended as needed. Using this class we avoid the need to provide implementions for interface methods that are not used. As a bare minimum,\n",
        "we only need to provide a public no-args constructor and implement the **initialize** method of our node.\n",
        "\n",
        "As an example, consider the following class:"
      ]
    },
    {
      "cell_type": "code",
      "metadata": {
        "id": "sY73UGzkM5sg",
        "colab_type": "code",
        "colab": {}
      },
      "source": [
        "%%writefile MinimalNode.java\n",
        "\n",
        "import java.util.Arrays;\n",
        "import cnss.simulator.*;\n",
        "import cnss.lib.*;\n",
        "\n",
        "public class MinimalNode extends AbstractApplicationAlgorithm {\n",
        "\n",
        "  public MinimalNode() {\n",
        "      super(true, \"minimal-node\");\n",
        "  }\n",
        "\n",
        "  public int initialise(int now, int node_id, Node self, String[] args) {\n",
        "    super.initialise(now, node_id, self, args);\n",
        "\n",
        "    super.log( now, \"XXXXXXXXXXXX. args: \" + Arrays.asList(args));\n",
        "\t\treturn 0;\n",
        "\t}\n",
        "} "
      ],
      "execution_count": null,
      "outputs": []
    },
    {
      "cell_type": "markdown",
      "metadata": {
        "id": "yyuwOKGZNBcY",
        "colab_type": "text"
      },
      "source": [
        "In the example, the public **no-args constructor** calls the super constructor with **true**, requesting logging to be enabled and providing the string **minimal-node** to be used as way of identifying this application in log messages.\n",
        "\n",
        "In the **initialize** method, we pass the method's arguments to the superclass to be stored in superclass fields. The superclass provides a logging method we call to print that information."
      ]
    },
    {
      "cell_type": "markdown",
      "metadata": {
        "id": "rulP9yn8NY9W",
        "colab_type": "text"
      },
      "source": [
        "### Configuration\n",
        "\n",
        "In the configuration file, we add nodes to a simulation, using the following syntax; each in a separate line:\n",
        "\n",
        "`node` `<id>` `<interfaces>` `<control-class>` `<application-class>` `<arg1>` ... `<argn>`\n",
        "\n",
        "where:\n",
        "\n",
        "* `<id>` is the integer id of the node (starting in 0 and following a strict increasing order);\n",
        "* `<interfaces>` is the number of network interfaces attached to the node;\n",
        "* `<control-class>` is the class providing the default control logic for the node;\n",
        "* `<application-class>` is the class that implements the node application logic;\n",
        "* `<arg1> ...` is a space separated list of string arguments passed to the previous class.\n",
        "\n",
        "#### Example \n",
        "The example below shows a configuration file for a simulation that will\n",
        "have 2 nodes. [EndSystemControl]() is a sample control-class already provided by the CNSS simulator library. "
      ]
    },
    {
      "cell_type": "code",
      "metadata": {
        "id": "W4IqIddFNulM",
        "colab_type": "code",
        "colab": {}
      },
      "source": [
        "%%writefile minimal-node.config.txt\n",
        "\n",
        "node 0 0 cnss.lib.EndSystemControl MinimalNode arg1 arg2 \n",
        "node 1 0 cnss.lib.EndSystemControl MinimalNode arg3 arg4\n"
      ],
      "execution_count": null,
      "outputs": []
    },
    {
      "cell_type": "markdown",
      "metadata": {
        "id": "K9nlitN9N1Lf",
        "colab_type": "text"
      },
      "source": [
        "#### Execution\n",
        "\n",
        "The following Unix commands compile and execute the simulator."
      ]
    },
    {
      "cell_type": "code",
      "metadata": {
        "id": "rqLiiA9aN5PG",
        "colab_type": "code",
        "colab": {}
      },
      "source": [
        "%%bash\n",
        "\n",
        "# Fetch the CNSS repository and compile it\n",
        "git clone https://github.com/jlegatheaux/cnss.git 2> /dev/null || git -C cnss pull\n",
        "javac -d cnss-classes cnss/src/*/*/*.java\n",
        "\n",
        "javac -cp .:cnss-classes MinimalNode.java\n",
        "java -cp .:cnss-classes cnss.simulator.Simulator minimal-node.config.txt"
      ],
      "execution_count": null,
      "outputs": []
    },
    {
      "cell_type": "markdown",
      "metadata": {
        "id": "aDNWgE6TOFIg",
        "colab_type": "text"
      },
      "source": [
        "### Periodic actions\n",
        "\n",
        "Nodes can request an action to be executed, periodically, ie., at regular intervals, by the way of receiving periodic clock tick events. This is done by:\n",
        "\n",
        "1. Returning a positive value (in milliseconds) in the **initialize** method;\n",
        "2. Implementing the `on_clock_tick` method with the desired behavior to be executed periodically.\n",
        "\n",
        "All events are delivered to nodes via a call to the appropriate `on_something` method. These calls from the simulator kernel (or node kernel in this case) to the user provided code are called **up calls**.\n"
      ]
    },
    {
      "cell_type": "code",
      "metadata": {
        "id": "o97Y44UUPvKu",
        "colab_type": "code",
        "colab": {}
      },
      "source": [
        "%%writefile PeriodicActionNode.java\n",
        "\n",
        "import java.util.Arrays;\n",
        "import cnss.simulator.*;\n",
        "import cnss.lib.*;\n",
        "\n",
        "public class PeriodicActionNode extends AbstractApplicationAlgorithm {\n",
        "\n",
        "  public PeriodicActionNode() {\n",
        "      super(true, \"periodic-node\");\n",
        "  }\n",
        "\n",
        "  public int initialise(int now, int node_id, Node self, String[] args) {\n",
        "    super.initialise(now, node_id, self, args);\n",
        "\t\treturn 1500;\n",
        "\t}\n",
        "\n",
        "  public void on_clock_tick(int now) {\n",
        "    super.log( now, \"on_clock_tick\");      \n",
        "  }\n",
        "\n",
        "}"
      ],
      "execution_count": null,
      "outputs": []
    },
    {
      "cell_type": "markdown",
      "metadata": {
        "id": "R4WmwvI9P67e",
        "colab_type": "text"
      },
      "source": [
        "In the updated example above, we request that method `on_clock_tick` to be called every 1500 milliseconds, as measured in simulation virtual time (not realtime).\n",
        "\n",
        "The updated configuration below, adds a `stop` parameter line to terminate the simulation after 10000 milliseconds of virtual time."
      ]
    },
    {
      "cell_type": "code",
      "metadata": {
        "id": "J7vDGK4lQAlP",
        "colab_type": "code",
        "colab": {}
      },
      "source": [
        "%%writefile periodic-action.config.txt\n",
        "\n",
        "node 0 0 cnss.lib.EndSystemControl PeriodicActionNode \n",
        "node 1 0 cnss.lib.EndSystemControl PeriodicActionNode\n",
        "\n",
        "\n",
        "parameter stop 10000"
      ],
      "execution_count": null,
      "outputs": []
    },
    {
      "cell_type": "markdown",
      "metadata": {
        "id": "64oReDTrQGjo",
        "colab_type": "text"
      },
      "source": [
        "***Compilation and Execution***"
      ]
    },
    {
      "cell_type": "code",
      "metadata": {
        "id": "OmR1Oq-LQHkf",
        "colab_type": "code",
        "colab": {}
      },
      "source": [
        "%%bash\n",
        "# Fetch the CNSS repository and compile it\n",
        "git clone https://github.com/jlegatheaux/cnss.git 2> /dev/null || git -C cnss pull\n",
        "javac -d cnss-classes cnss/src/*/*/*.java\n",
        "\n",
        "\n",
        "javac -cp .:cnss-classes PeriodicActionNode.java\n",
        "java -cp .:cnss-classes cnss.simulator.Simulator periodic-action.config.txt"
      ],
      "execution_count": null,
      "outputs": []
    },
    {
      "cell_type": "markdown",
      "metadata": {
        "id": "V5V61acZQPIq",
        "colab_type": "text"
      },
      "source": [
        "### Timeout Events\n",
        "\n",
        "Application nodes can also schedule an operation to execute once in the future by setting a timeout. This is achieved via the `set_timeout( int )` method in the [Node](https://github.com/jlegatheaux/cnss/blob/master/src/cnss/simulator/Node.java) class.\n",
        "\n",
        "When the timeout deadline expires, the `on_timeout()` method the node implements to satisfy the [ApplicationAlgorithm](https://github.com/jlegatheaux/cnss/blob/master/src/cnss/simulator/ApplicationAlgorithm.java) interface is called by the simulator. \n",
        "\n",
        "Note: Timeout events are automatically cancelled in some cases that will be discussed later on future assignments..."
      ]
    },
    {
      "cell_type": "markdown",
      "metadata": {
        "id": "X89H1AraQngK",
        "colab_type": "text"
      },
      "source": [
        "#### Example"
      ]
    },
    {
      "cell_type": "code",
      "metadata": {
        "id": "ndkqMdwnQqfT",
        "colab_type": "code",
        "colab": {}
      },
      "source": [
        "%%writefile TimeoutHandlingNode.java\n",
        "\n",
        "import java.util.Arrays;\n",
        "import cnss.simulator.*;\n",
        "import cnss.lib.*;\n",
        "\n",
        "public class TimeoutHandlingNode extends AbstractApplicationAlgorithm {\n",
        "\n",
        "  public TimeoutHandlingNode() {\n",
        "      super(true, \"timeout-handling-node\");\n",
        "  }\n",
        "\n",
        "  public int initialise(int now, int node_id, Node self, String[] args) {\n",
        "    super.initialise(now, node_id, self, args);\n",
        "    self.set_timeout(1000 + node_id);\n",
        "\t\treturn 0;\n",
        "\t}\n",
        "\n",
        "  public void on_timeout(int now) {\n",
        "    super.log( now, \"on_timeout\");      \n",
        "  }\n",
        "\n",
        "}"
      ],
      "execution_count": null,
      "outputs": []
    },
    {
      "cell_type": "markdown",
      "metadata": {
        "id": "5Lx2AKHzQuwf",
        "colab_type": "text"
      },
      "source": [
        "***Configuration***"
      ]
    },
    {
      "cell_type": "code",
      "metadata": {
        "id": "jj1vPdVFQvq4",
        "colab_type": "code",
        "colab": {}
      },
      "source": [
        "%%writefile timeout-handling.config.txt\n",
        "\n",
        "node 0 0 cnss.lib.EndSystemControl TimeoutHandlingNode \n",
        "node 1 0 cnss.lib.EndSystemControl TimeoutHandlingNode\n",
        "\n",
        "\n",
        "parameter stop 10000"
      ],
      "execution_count": null,
      "outputs": []
    },
    {
      "cell_type": "markdown",
      "metadata": {
        "id": "HkoZ-6VQRdDq",
        "colab_type": "text"
      },
      "source": [
        "***Execution***"
      ]
    },
    {
      "cell_type": "code",
      "metadata": {
        "id": "dloNcpmvRgKX",
        "colab_type": "code",
        "colab": {}
      },
      "source": [
        "%%bash\n",
        "# Fetch the CNSS repository and compile it\n",
        "git clone https://github.com/jlegatheaux/cnss.git 2> /dev/null || git -C cnss pull\n",
        "javac -d cnss-classes cnss/src/*/*/*.java\n",
        "\n",
        "\n",
        "javac -cp .:cnss-classes TimeoutHandlingNode.java\n",
        "java -cp .:cnss-classes cnss.simulator.Simulator timeout-handling.config.txt"
      ],
      "execution_count": null,
      "outputs": []
    },
    {
      "cell_type": "markdown",
      "metadata": {
        "id": "En2Bvj3ZRkU_",
        "colab_type": "text"
      },
      "source": [
        "***Question:*** The timeout events are not executed in the same instant in the two nodes. Why is that?\n",
        "\n",
        "---"
      ]
    },
    {
      "cell_type": "markdown",
      "metadata": {
        "id": "1HVIUQ6YR0kO",
        "colab_type": "text"
      },
      "source": [
        "## CNSS Networking\n",
        "\n",
        "The goal of networking is to exchange information among nodes via network packets.\n",
        "\n",
        "In CNSS, **data packets** are modelled by the [DataPacket](https://github.com/jlegatheaux/cnss/blob/master/src/cnss/simulator/DataPacket.java) class, and are created by providing the destination node **id**, and the message payload or contents as an array of bytes.\n",
        "\n",
        "In the example below, we define a node that creates and sends empty data packets to **itself** every 500 ms."
      ]
    },
    {
      "cell_type": "code",
      "metadata": {
        "id": "siqbf_evSB0o",
        "colab_type": "code",
        "colab": {}
      },
      "source": [
        "%%writefile SelfSenderNode.java\n",
        "\n",
        "import java.util.Arrays;\n",
        "import cnss.simulator.*;\n",
        "import cnss.lib.*;\n",
        "\n",
        "public class SelfSenderNode extends AbstractApplicationAlgorithm {\n",
        "\n",
        "  public SelfSenderNode() {\n",
        "      super(true, \"selfsender-node\");\n",
        "  }\n",
        "\n",
        "  public int initialise(int now, int node_id, Node self, String[] args) {\n",
        "    super.initialise(now, node_id, self, args);\n",
        "\n",
        "\t\treturn 500;\n",
        "\t}\n",
        "\n",
        "  public void on_clock_tick(int now) {\n",
        "      self.send(self.createDataPacket( super.nodeId, new byte[0]));\n",
        "  }\n",
        "\n",
        "  public void on_receive( int now, DataPacket p ) {\n",
        "    log( now, \"got: \" + p); \n",
        "  }\n",
        "} "
      ],
      "execution_count": null,
      "outputs": []
    },
    {
      "cell_type": "markdown",
      "metadata": {
        "id": "swOKHFvHSKFt",
        "colab_type": "text"
      },
      "source": [
        "***Configuration***"
      ]
    },
    {
      "cell_type": "code",
      "metadata": {
        "id": "uLtD38TrSFlq",
        "colab_type": "code",
        "colab": {}
      },
      "source": [
        "%%writefile self-sender.config.txt\n",
        "\n",
        "node 0 0 cnss.lib.EndSystemControl SelfSenderNode \n",
        "\n",
        "\n",
        "parameter stop 8000"
      ],
      "execution_count": null,
      "outputs": []
    },
    {
      "cell_type": "markdown",
      "metadata": {
        "id": "7a7Pxyc6SJn4",
        "colab_type": "text"
      },
      "source": [
        "***Compilation and Execution***"
      ]
    },
    {
      "cell_type": "code",
      "metadata": {
        "id": "hyWgkOd5SIiH",
        "colab_type": "code",
        "colab": {}
      },
      "source": [
        "%%bash\n",
        "# Fetch the CNSS repository and compile it\n",
        "git clone https://github.com/jlegatheaux/cnss.git 2> /dev/null || git -C cnss pull\n",
        "javac -d cnss-classes cnss/src/*/*/*.java\n",
        "\n",
        "\n",
        "javac -cp .:cnss-classes SelfSenderNode.java\n",
        "java -cp .:cnss-classes cnss.simulator.Simulator self-sender.config.txt"
      ],
      "execution_count": null,
      "outputs": []
    },
    {
      "cell_type": "code",
      "metadata": {
        "id": "zkgwLadn8HD-",
        "colab_type": "code",
        "colab": {}
      },
      "source": [
        ""
      ],
      "execution_count": null,
      "outputs": []
    },
    {
      "cell_type": "markdown",
      "metadata": {
        "id": "M5H-HT5wV-wB",
        "colab_type": "text"
      },
      "source": [
        "One interesting aspect to note is the fact that all packets are delivered to their destination after some time. A packet sent by a node to itself is delivered exactly 1 ms later since in CNSS virtual time advances in milliseconds (which are the smaller time frame CNSS supports).\n",
        "\n",
        "### Network Links\n",
        "\n",
        "To simulate a network we require network links. Links inter-connect nodes by linking two **interfaces**.\n"
      ]
    },
    {
      "cell_type": "markdown",
      "metadata": {
        "id": "_62GIWzYWKbR",
        "colab_type": "text"
      },
      "source": [
        "### Configuration\n",
        "\n",
        "In the configuration file, we add links to the simulation using the following syntax; each in a separate line:\n",
        "\n",
        "`link` `<id1>`.`<interface1>` `<id2>`.`<interface2>` `<bandwidth>` `<latency>` `<error_rate>` `<jitter>`\n",
        "\n",
        "where:\n",
        "\n",
        "* `<id1>` and `<id2>` identify the end nodes of the link;\n",
        "* `<interface1>` and `<interface2>` identify the two interfaces linked together by the link; \n",
        "* `<bandwidth>` is the transmission rate of the link in bps;\n",
        "* `<latency>` is the latency of the link in ms;\n",
        "* `<error_rate>` is the error rate in percent;\n",
        "* `<jitter>` is the jitter rate of the link.\n",
        "\n",
        "<br>\n",
        "\n",
        "#### Example \n",
        "The example below shows a configuration file for a simulation that will\n",
        "have 2 nodes, connected by a single link."
      ]
    },
    {
      "cell_type": "code",
      "metadata": {
        "id": "Asvh8YE2WrEJ",
        "colab_type": "code",
        "colab": {}
      },
      "source": [
        "%%writefile one-link.config.txt\n",
        "\n",
        "node 0 1 cnss.lib.EndSystemControl SenderNode \n",
        "node 1 1 cnss.lib.EndSystemControl ReceiverNode\n",
        "\n",
        "link 0.0 1.0 1000000 125 0 0\n",
        "\n",
        "parameter stop 10000"
      ],
      "execution_count": null,
      "outputs": []
    },
    {
      "cell_type": "code",
      "metadata": {
        "id": "LA9EQNc6W1YK",
        "colab_type": "code",
        "colab": {}
      },
      "source": [
        "%%writefile SenderNode.java\n",
        "\n",
        "import java.util.Arrays;\n",
        "import cnss.simulator.*;\n",
        "import cnss.lib.*;\n",
        "\n",
        "public class SenderNode extends AbstractApplicationAlgorithm {\n",
        "\n",
        "  public SenderNode() {\n",
        "      super(true, \"sender-node\");\n",
        "  }\n",
        "\n",
        "  public int initialise(int now, int node_id, Node self, String[] args) {\n",
        "    super.initialise(now, node_id, self, args);\n",
        "\t\treturn 1000;\n",
        "\t}\n",
        "\n",
        "  public void on_clock_tick(int now) {\n",
        "      self.send( self.createDataPacket( 1, new byte[0]));\n",
        "  }\n",
        "} "
      ],
      "execution_count": null,
      "outputs": []
    },
    {
      "cell_type": "markdown",
      "metadata": {
        "id": "WIQEtFpQdFo3",
        "colab_type": "text"
      },
      "source": [
        "***Question:*** In the above code, what is the meaning of ***1*** in the `createDataPacket` call? What would happen if instead ***0*** was used?"
      ]
    },
    {
      "cell_type": "code",
      "metadata": {
        "id": "h-rv4TU9W166",
        "colab_type": "code",
        "colab": {}
      },
      "source": [
        "%%writefile ReceiverNode.java\n",
        "\n",
        "import java.util.Arrays;\n",
        "import cnss.simulator.*;\n",
        "import cnss.lib.*;\n",
        "\n",
        "public class ReceiverNode extends AbstractApplicationAlgorithm {\n",
        "\n",
        "  public ReceiverNode() {\n",
        "      super(true, \"receiver-node\");\n",
        "  }\n",
        "\n",
        "  public int initialise(int now, int node_id, Node self, String[] args) {\n",
        "    super.initialise(now, node_id, self, args);\n",
        "\t\treturn 0;\n",
        "\t}\n",
        "\n",
        "  public void on_receive( int now, DataPacket p ) {\n",
        "    log( now, \"got: \" + p); \n",
        "  }\n",
        "} "
      ],
      "execution_count": null,
      "outputs": []
    },
    {
      "cell_type": "markdown",
      "metadata": {
        "id": "MGiXmoWfXEoJ",
        "colab_type": "text"
      },
      "source": [
        "***Compilation and Execution***"
      ]
    },
    {
      "cell_type": "code",
      "metadata": {
        "id": "YZqjChOsXKxz",
        "colab_type": "code",
        "colab": {}
      },
      "source": [
        "%%bash\n",
        "# Fetch the CNSS repository and compile it\n",
        "git clone https://github.com/jlegatheaux/cnss.git 2> /dev/null || git -C cnss pull\n",
        "javac -d cnss-classes cnss/src/*/*/*.java\n",
        "\n",
        "\n",
        "javac -cp .:cnss-classes SenderNode.java\n",
        "javac -cp .:cnss-classes ReceiverNode.java\n",
        "java -cp .:cnss-classes cnss.simulator.Simulator one-link.config.txt"
      ],
      "execution_count": null,
      "outputs": []
    },
    {
      "cell_type": "markdown",
      "metadata": {
        "id": "1Qgh-ELyXWBG",
        "colab_type": "text"
      },
      "source": [
        "### Switches\n",
        "\n",
        "CNSS can simulate networks where some nodes are packet switches, i.e. special nodes that know how to forward packets between links, so that\n",
        "network packets can reach their destination nodes.\n",
        "\n",
        "The base CNSS code already provides classes to instantiate a basic rswitch node. Such nodes do not require application-level actions, and can reply on the [EmptyApp](https://github.com/jlegatheaux/cnss/blob/master/src/cnss/library/EmptyApp.java) class. Whereas, the [FloodingSwitch](https://github.com/jlegatheaux/cnss/blob/master/src/cnss/lib/FloodingSwitch.java) class implements the default packet forwarding protocol.\n",
        "\n",
        "It is interesting to note now that in CNSS all nodes can execute a control algorithm as well as an application algorithm. Switch only nodes execute a packet forwarding algorithm (the control algorithm) and an empty application algorithm, while end systems or application only nodes, execute an elementary control algorithm made available in the lib code base of CNSS. This simple control algorithm allows the application node to send and receive packets using its single link."
      ]
    },
    {
      "cell_type": "markdown",
      "metadata": {
        "id": "UH0dWXM9YDJz",
        "colab_type": "text"
      },
      "source": [
        "#### Example configuration\n",
        "\n",
        "To exemplify a network where 2 nodes connected via an intermediary switch, we add a third node to the simulation configuration file.\n",
        "\n",
        "Note that that the **switch** has 2 interfaces, each at the end of one of the two links."
      ]
    },
    {
      "cell_type": "code",
      "metadata": {
        "id": "YijOpxHdYD6H",
        "colab_type": "code",
        "colab": {}
      },
      "source": [
        "%%writefile two-links.config.txt\n",
        "\n",
        "node 0 1 cnss.lib.EndSystemControl SenderNode \n",
        "node 1 1 cnss.lib.EndSystemControl ReceiverNode\n",
        "node 2 2 cnss.lib.FloodingSwitch cnss.lib.EmptyApp\n",
        "\n",
        "link 0.0 2.0 1000000 125 0 0\n",
        "link 2.1 1.0 1000000 500 0 0\n",
        "\n",
        "parameter stop 10000"
      ],
      "execution_count": null,
      "outputs": []
    },
    {
      "cell_type": "markdown",
      "metadata": {
        "id": "jqFS1xrjY9kY",
        "colab_type": "text"
      },
      "source": [
        "***Compilation and Execution***"
      ]
    },
    {
      "cell_type": "code",
      "metadata": {
        "id": "2p6g9RP5ZARH",
        "colab_type": "code",
        "colab": {}
      },
      "source": [
        "%%bash\n",
        "# Fetch the CNSS repository and compile it\n",
        "git clone https://github.com/jlegatheaux/cnss.git 2> /dev/null || git -C cnss pull\n",
        "javac -d cnss-classes cnss/src/*/*/*.java\n",
        "\n",
        "\n",
        "javac -cp .:cnss-classes SenderNode.java\n",
        "javac -cp .:cnss-classes ReceiverNode.java\n",
        "java -cp .:cnss-classes cnss.simulator.Simulator two-links.config.txt"
      ],
      "execution_count": null,
      "outputs": []
    },
    {
      "cell_type": "markdown",
      "metadata": {
        "id": "3d3V3uqwd7YZ",
        "colab_type": "text"
      },
      "source": [
        "Before closing this short introduction to CNSS you should look carrefully at the log of the above simulation and try to explain how CNSS can be used to compute packets end-to-end transit time.\n",
        "\n",
        "# Assignment 0\n",
        "\n",
        "Up to this point, we have covered the main concepts that CNSS simulations will revolve around. \n",
        "\n",
        "1) We know how to code Nodes that can execute operations in due time or in response to the arrival of network packtets. \n",
        "\n",
        "2) How to specify a configuration file that defines which nodes will be simulation, as well as, and the network links that connect them together. \n",
        "\n",
        "3) Compile and run the simulator and see its output results.\n",
        "\n",
        "The challenge for this assignment is to use the CNSS simulator to find the **round-trip-time** (RTT)[https://en.wikipedia.org/wiki/Round-trip_delay] between two nodes. \n",
        "\n",
        "This can be achieved by measuring the virtual simulation time that a small message takes to go from a **node A** to a **node B** and back (to A).\n",
        "\n",
        "The two requirements of the solution are:\n",
        "\n",
        "1. The RTT should be measured/repeated every 5 seconds for the duration of the simulation;\n",
        "2. The sender node should accept a single argument corresponding to the total size in bytes of the payload of the data packet that will be used to determine the RTT;\n",
        "3. The solution should be general and produce the correct result with different configurations of network links.\n",
        "\n",
        "The payload of the message used to measure the RTT is up to you; for instance, it can be all zeroes or include any information you see fit, as long as it does not exceed the size specified. \n",
        "\n",
        "As a sugestion, you might want to consider including the time the message was sent/created as part of the packet payload...\n",
        "\n",
        "Moreover, to address this challenge, you can modify the ***SenderNode*** and ***ReceiverNode*** classes provided earlier.\n",
        "\n",
        "## Delivery\n",
        "\n",
        "Instructions on how to deliver your solution will be updated here no later than Friday 25th.\n"
      ]
    }
  ]
}